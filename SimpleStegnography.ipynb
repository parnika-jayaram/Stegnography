{
  "cells": [
    {
      "cell_type": "markdown",
      "metadata": {
        "id": "I7mr_6U5fVEL"
      },
      "source": [
        "Importing Libraries"
      ]
    },
    {
      "cell_type": "code",
      "execution_count": 1,
      "metadata": {
        "id": "NqrPFYVICbWS"
      },
      "outputs": [],
      "source": [
        "# !pip install opencv-python\n",
        "# !pip uninstall opencv-python\n",
        "# python --version is used to find out the latest version of python\n",
        "import cv2\n",
        "import os\n",
        "import string"
      ]
    },
    {
      "cell_type": "markdown",
      "metadata": {
        "id": "psuv_i87L28q"
      },
      "source": [
        "Session storage of Google Colab is used."
      ]
    },
    {
      "cell_type": "code",
      "execution_count": 43,
      "metadata": {
        "colab": {
          "base_uri": "https://localhost:8080/"
        },
        "id": "MN-Crw0AcZ4A",
        "outputId": "dc5d44d4-a87d-47d5-d99d-a55de46ec8cc"
      },
      "outputs": [
        {
          "name": "stdout",
          "output_type": "stream",
          "text": [
            "Enter secret message: Whispering Wings Unveil Secrets\n",
            "Enter password: MystiCode2023\n",
            "Enter the passcode for Decryption: MystiCode2023\n",
            "Decrypted message:  Whispering Wings Unveil Secrets\n"
          ]
        }
      ],
      "source": [
        "img=cv2.imread(\"training_plots.png\") # Reading the Image\n",
        "msg=input(\"Enter secret message: \") # User input for Secret Message\n",
        "password=input(\"Enter password: \") # User input for Password:\n",
        "\n",
        "# Creating Dictionaries for Character-ASCII Mapping\n",
        "d={}\n",
        "c={}\n",
        "for i in range(255):\n",
        "  d[chr(i)]=i # convert characters to their corresponding ASCII values\n",
        "  c[i]=chr(i) # map ASCII values into corresponding characters\n",
        "\n",
        "# Hiding the Message in the Image (Encryption)\n",
        "m=0\n",
        "n=0\n",
        "z=0\n",
        "#Insert text into the image\n",
        "for i in range(len(msg)):\n",
        "  img[n,m,z]=d[msg[i]] # ASCII values copied into image\n",
        "  n=n+1\n",
        "  m=m+1\n",
        "  z=(z+1)%3 # change RGB values into message\n",
        "\n",
        "cv2.imwrite(\"Encryptedmsg.jpg\",img) # Saving the encrypted image\n",
        "os.system(\"Start Encrypted.jpg\") # Open the encrypted image\n",
        "\n",
        "#Decryption\n",
        "message=\"\"\n",
        "n=0\n",
        "m=0\n",
        "z=0\n",
        "pas=input(\"Enter the passcode for Decryption: \")\n",
        "if password == pas:\n",
        "  # ASCII values are converted back to characters\n",
        "  for i in range(len(msg)):\n",
        "    message=message+c[img[n,m,z]]\n",
        "    n=n+1\n",
        "    m=m+1\n",
        "    z=(z+1)%3\n",
        "  print(\"Decrypted message: \",message)\n",
        "else:\n",
        "  print(\"Invalid password!\")"
      ]
    }
  ],
  "metadata": {
    "colab": {
      "provenance": []
    },
    "kernelspec": {
      "display_name": "Python 3",
      "name": "python3"
    },
    "language_info": {
      "name": "python"
    }
  },
  "nbformat": 4,
  "nbformat_minor": 0
}
