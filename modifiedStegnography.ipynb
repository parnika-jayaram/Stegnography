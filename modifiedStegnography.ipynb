{
  "cells": [
    {
      "cell_type": "markdown",
      "metadata": {
        "id": "psuv_i87L28q"
      },
      "source": [
        "Session storage of Google Colab is used."
      ]
    },
    {
      "cell_type": "code",
      "execution_count": null,
      "metadata": {
        "colab": {
          "base_uri": "https://localhost:8080/"
        },
        "id": "y5TKyKAWoF4x",
        "outputId": "91690828-a6fa-4cb9-9fa9-c239386a1496"
      },
      "outputs": [
        {
          "name": "stdout",
          "output_type": "stream",
          "text": [
            "Extracted Message: Let your dreams take flight like a bird in the sky\n"
          ]
        }
      ],
      "source": [
        "# !pip install pillow\n",
        "\n",
        "from PIL import Image\n",
        "\n",
        "# Function to hide a message in an image\n",
        "def hide_message(image_path, message, output_image_path):\n",
        "    image = Image.open(image_path)\n",
        "    pixels = list(image.getdata()) # pixel data is converted into a list of pixels\n",
        "\n",
        "    # Converting the message to ASCII 8 bit binary format\n",
        "    binary_message = ''.join(format(ord(char), '08b') for char in message)\n",
        "\n",
        "    # Since images have limited capacity to hide data and to preserve the image quality\n",
        "    # I have added a line which checks if the length of the binary message is greater than three times\n",
        "    # the number of pixels in the image. If it is, it raises an error because the message is too long to be hidden in the image\n",
        "    if len(binary_message) > len(pixels) * 3:\n",
        "        raise ValueError(\"The message is too long!\")\n",
        "\n",
        "    # To indicate the end of the message, a sentinal (16 bits- unusual to occur) are added\n",
        "    binary_message += '1111111111111110'\n",
        "\n",
        "    data_index = 0\n",
        "    for i in range(len(pixels)):\n",
        "        pixel = list(pixels[i])\n",
        "        for j in range(3):\n",
        "            if data_index < len(binary_message):\n",
        "                pixel[j] = int(bin(pixel[j])[:-1] + binary_message[data_index], 2)\n",
        "                data_index += 1\n",
        "        pixels[i] = tuple(pixel)\n",
        "\n",
        "    stego_image = Image.new(image.mode, image.size)\n",
        "    stego_image.putdata(pixels)\n",
        "    stego_image.save(output_image_path)\n",
        "\n",
        "    # Display the steganographic image\n",
        "    stego_image.show()\n",
        "\n",
        "# Function to extract a message from an image\n",
        "def extract_message(image_path):\n",
        "    image = Image.open(image_path)\n",
        "    pixels = list(image.getdata())\n",
        "\n",
        "    binary_message = ''\n",
        "    for pixel in pixels:\n",
        "        for color_channel in pixel:\n",
        "            binary_message += bin(color_channel)[-1]\n",
        "\n",
        "    sentinel_index = binary_message.find('1111111111111110')\n",
        "    if sentinel_index == -1:\n",
        "        return \"No hidden message found.\"\n",
        "\n",
        "    binary_message = binary_message[:sentinel_index]\n",
        "    message = ''\n",
        "    for i in range(0, len(binary_message), 8):\n",
        "        message += chr(int(binary_message[i:i+8], 2))\n",
        "\n",
        "    return message\n",
        "\n",
        "\n",
        "hide_message(\"/content/singleBirdinsky221.jpeg\", \"Let your dreams take flight like a bird in the sky\", \"output_image.png\")\n",
        "extracted_message = extract_message(\"output_image.png\")\n",
        "print(\"Extracted Message:\", extracted_message)\n"
      ]
    }
  ],
  "metadata": {
    "colab": {
      "provenance": []
    },
    "kernelspec": {
      "display_name": "Python 3",
      "name": "python3"
    },
    "language_info": {
      "name": "python"
    }
  },
  "nbformat": 4,
  "nbformat_minor": 0
}
